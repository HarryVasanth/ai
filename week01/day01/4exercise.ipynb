{
 "metadata": {
  "language_info": {
   "codemirror_mode": {
    "name": "ipython",
    "version": 3
   },
   "file_extension": ".py",
   "mimetype": "text/x-python",
   "name": "python",
   "nbconvert_exporter": "python",
   "pygments_lexer": "ipython3",
   "version": "3.6.9"
  },
  "orig_nbformat": 2,
  "kernelspec": {
   "name": "python3",
   "display_name": "Python 3.6.9 64-bit",
   "metadata": {
    "interpreter": {
     "hash": "31f2aee4e71d21fbe5cf8b01ff0e069b9275f58929596ceb00d14d90e3e16cd6"
    }
   }
  }
 },
 "nbformat": 4,
 "nbformat_minor": 2,
 "cells": [
  {
   "source": [
    "04 exercice from day 01\n",
    "\n",
    "**The sbuject**:\n",
    "\n",
    "The goal of this exercice is to learn to generate random data.\n",
    "In Data Science it is extremely useful to generate random data for many reasons: \n",
    "Lack of real data, create a random benchmark, use varied data sets. \n",
    "NumPy proposes a lot of options to generate random data. In statistics, assumptions are made on the distribution the data is from. All data distribution that can be generated randomly are described in the documentation. In this exerice we will focus on two distributions:\n",
    "\n",
    "- Uniform: For example, if your goal is to generate a random number from 1 to 100 and that the probability that all the numbers is equal you'll need the uniform distribution. NumPy provides `randint` and `uniform` to generate uniform distribution\n",
    "- Normal: The normal distribution is the most important probability distribution in statistics because it fits many natural phenomena.For example, if you need to generate a data sample that represents **Heights of 14 Year Old Girls** it can be done using the normal distribution. In that case, we need two parameters: the mean (1m51) and the standard deviation (0.0741m). NumPy provides `randn` to generate normal distribution (among other)\n",
    "https://docs.scipy.org/doc/NumPy-1.15.0/reference/routines.random.html\n",
    "\n",
    "1. Set the seed to 888\n",
    "2. Generate a **one-dimensional**  array of size 100 with a normal distribution \n",
    "3. Generate a **two-dimensional** array of size 8,8 with random integers from 1 to 10 - both included (same probability for each integer)\n",
    "4. Generate a **three-dimensional** of size 4,2,5 array with random integers from 1 to 17 - both included (same probability for each integer)\n"
   ],
   "cell_type": "markdown",
   "metadata": {}
  },
  {
   "cell_type": "code",
   "execution_count": 30,
   "metadata": {},
   "outputs": [
    {
     "output_type": "stream",
     "name": "stdout",
     "text": [
      "None\n[[[ 5  2 13 16 15]\n  [ 5  5  2 11  3]]\n\n [[ 8 13  6  4 17]\n  [ 2  8  1 13 10]]\n\n [[12 17 17 12  1]\n  [10  8 17  5 11]]\n\n [[ 9 14  2 15 13]\n  [12 14  6 14  2]]]\n"
     ]
    }
   ],
   "source": [
    "import numpy as np\n",
    "\n",
    "# https://numpy.org/doc/1.16/reference/generated/numpy.random.randint.html#numpy.random.randint\n",
    "\n",
    "rnd_seed = np.random.seed(888)\n",
    "\n",
    "print(rnd_seed)\n",
    "\n",
    "# uniform distribution\n",
    "# one_dimen = np.random.rand(100)\n",
    "\n",
    "# normal distribution\n",
    "one_dimen = np.random.randn(100)\n",
    "\n",
    "# print(one_dimen)\n",
    "\n",
    "# same probability for each integer\n",
    "two_dimen = np.random.randint(1, 11, size=(8,8))\n",
    "\n",
    "# print(two_dimen)\n",
    "\n",
    "# same probability for each integer\n",
    "three_dimen = np.random.randint(1, 18, size=(4, 2, 5))\n",
    "\n",
    "# print(three_dimen)\n"
   ]
  }
 ]
}
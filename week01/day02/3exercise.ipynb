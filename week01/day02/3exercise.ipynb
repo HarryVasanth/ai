{
 "metadata": {
  "language_info": {
   "codemirror_mode": {
    "name": "ipython",
    "version": 3
   },
   "file_extension": ".py",
   "mimetype": "text/x-python",
   "name": "python",
   "nbconvert_exporter": "python",
   "pygments_lexer": "ipython3",
   "version": "3.6.9"
  },
  "orig_nbformat": 2,
  "kernelspec": {
   "name": "python3",
   "display_name": "Python 3.6.9 64-bit",
   "metadata": {
    "interpreter": {
     "hash": "31f2aee4e71d21fbe5cf8b01ff0e069b9275f58929596ceb00d14d90e3e16cd6"
    }
   }
  }
 },
 "nbformat": 4,
 "nbformat_minor": 2,
 "cells": [
  {
   "source": [
    "# Exercice 3: E-commerce purchases<w>\n",
    "\n",
    "The goal of this exercise is to learn to manipulate real data with Pandas. This exercise is less guided since the exercise 2 should have given you a nice introduction.\n",
    "\n",
    "The data set used is **E-commerce purchases**.\n",
    "\n",
    "Questions:\n",
    "\n",
    "1. How many rows and columns are there?\n",
    "2. What is the average Purchase Price?\n",
    "3. What were the highest and lowest purchase prices?\n",
    "4. How many people have English `'en'` as their Language of choice on the website?\n",
    "5. How many people have the job title of `\"Lawyer\"` ?\n",
    "6. How many people made the purchase during the `AM` and how many people made the purchase during `PM` ?\n",
    "7. What are the 5 most common Job Titles?\n",
    "8. Someone made a purchase that came from Lot: `\"90 WT\"` , what was the Purchase Price for this transaction?\n",
    "9. What is the email of the person with the following Credit Card Number: `4926535242672853`\n",
    "10. How many people have American Express as their Credit Card Provider and made a purchase above `$95` ?\n",
    "11. How many people have a credit card that expires in `2025`?\n",
    "12. What are the top 5 most popular email providers/hosts (e.g. gmail.com, yahoo.com, etc...)\n"
   ],
   "cell_type": "markdown",
   "metadata": {}
  },
  {
   "cell_type": "code",
   "execution_count": 66,
   "metadata": {},
   "outputs": [
    {
     "output_type": "stream",
     "name": "stdout",
     "text": [
      "row 10000\ncolumns 14\n50.347302\nhighest 99.99\nlowest 0.0\nthat have en 1098\nLawyers 30\nPM    5068\nAM    4932\nName: AM or PM, dtype: int64\nInterior and spatial designer        31\nLawyer                               30\nSocial researcher                    28\nPurchasing manager                   27\nResearch officer, political party    27\nName: Job, dtype: int64\n-----------\n513    75.1\nName: Purchase Price, dtype: float64\n-----------\n1234    bondellen@williams-garza.com\nName: Email, dtype: object\n-----------\n39\n-----------\nFalse    8967\nTrue     1033\nName: CC Exp Date, dtype: int64\n-----------\nhotmail.com     1638\nyahoo.com       1616\ngmail.com       1605\nsmith.com         42\nwilliams.com      37\nName: Email, dtype: int64\n"
     ]
    }
   ],
   "source": []
  },
  {
   "cell_type": "code",
   "execution_count": null,
   "metadata": {},
   "outputs": [],
   "source": [
    "import pandas as pd\n",
    "from pandas import Series, DataFrame\n",
    "\n",
    "df = pd.read_csv(\"Ecommerce_purchases.txt\", sep=\",\")\n",
    "\n",
    "# 1. How many rows and columns are there?\n",
    "print('row', len(df.axes[0]))\n",
    "print('columns', len(df.axes[1]))\n",
    "\n",
    "# 2. What is the average Purchase Price?\n",
    "print(df['Purchase Price'].mean())\n",
    "\n",
    "# 3. What were the highest and lowest purchase prices?\n",
    "print('highest', df['Purchase Price'].max())\n",
    "print('lowest', df['Purchase Price'].min())\n",
    "\n",
    "# 4. How many people have English `'en'` as their Language of choice on the website?\n",
    "# this is one way to do it but its more complicated\n",
    "# print(df['Language'].str.contains('en', regex=False).value_counts())\n",
    "\n",
    "# this one is better\n",
    "print('that have en', df['Language'].value_counts()['en'])\n",
    "\n",
    "# 5. How many people have the job title of `\"Lawyer\"` ?\n",
    "print('Lawyers', df['Job'].value_counts()['Lawyer'])\n",
    "\n",
    "\n",
    "# 6. How many people made the purchase during the `AM` and how many people made the purchase during `PM` ?\n",
    "print(df['AM or PM'].value_counts())\n",
    "\n",
    "# 7. What are the 5 most common Job Titles?\n",
    "print(df['Job'].value_counts().head())\n",
    "\n",
    "\n",
    "# 8. Someone made a purchase that came from Lot: `\"90 WT\"` , what was the Purchase Price for this transaction?\n",
    "print('-----------')\n",
    "print(df.loc[df['Lot'] == '90 WT']['Purchase Price'])\n",
    "\n",
    "# 9. What is the email of the person with the following Credit Card Number: `4926535242672853`\n",
    "print('-----------')\n",
    "print(df.loc[df['Credit Card'] == 4926535242672853]['Email'])\n",
    "\n",
    "# 10. How many people have American Express as their Credit Card Provider and made a purchase above `$95` ?\n",
    "print('-----------')\n",
    "print(df.loc[(df['CC Provider'] == 'American Express') & (df['Purchase Price'] > 95)]['Address'].count())\n",
    "\n",
    "# 11. How many people have a credit card that expires in `2025`?\n",
    "print('-----------')\n",
    "print(df['CC Exp Date'].str.contains('/25', regex=False).value_counts())\n",
    "\n",
    "# 12. What are the top 5 most popular email providers/hosts (e.g. gmail.com, yahoo.com, etc...)\n",
    "print('-----------')\n",
    "new = df['Email'].str.split('@').str[1]\n",
    "print(new.value_counts().head())\n"
   ]
  }
 ]
}
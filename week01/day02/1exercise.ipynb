{
 "cells": [
  {
   "cell_type": "markdown",
   "metadata": {},
   "source": [
    "# Exercice 1\n",
    "\n",
    "The goal of this exercise is to learn to create basic Pandas objects.\n",
    "\n",
    "1. Create a DataFrame as below this using two ways:\n",
    "    - From a NumPy array\n",
    "    - From a Pandas Series\n",
    "\n",
    "    |    | color   | list    |   number |\n",
    "    |---:|:--------|:--------|---------:|\n",
    "    |  1 | Blue    | [1, 2]  |      1.1 |\n",
    "    |  3 | Red     | [3, 4]  |      2.2 |\n",
    "    |  5 | Pink    | [5, 6]  |      3.3 |\n",
    "    |  7 | Grey    | [7, 8]  |      4.4 |\n",
    "    |  9 | Black   | [9, 10] |      5.5 |\n",
    "\n",
    "2. Print the types for every columns and the types of the first value of every columns\n"
   ]
  },
  {
   "cell_type": "code",
   "execution_count": 6,
   "metadata": {},
   "outputs": [
    {
     "output_type": "stream",
     "name": "stdout",
     "text": [
      "   color     list  number\n1   Blue   [1, 2]     1.1\n3    Red   [3, 4]     2.2\n5   Pink   [5, 6]     3.3\n7   Grey   [7, 8]     4.4\n9  Black  [9, 10]     5.5\n<class 'pandas.core.series.Series'>\n<class 'str'>\n<class 'pandas.core.series.Series'>\n<class 'list'>\n<class 'pandas.core.series.Series'>\n<class 'numpy.float64'>\n"
     ]
    }
   ],
   "source": [
    "import pandas as pd\n",
    "from pandas import Series, DataFrame\n",
    "\n",
    "disc = {\n",
    "    \"color\": [\"Blue\", \"Red\", \"Pink\", \"Grey\", \"Black\"],\n",
    "    \"list\": [[1, 2], [3, 4], [5, 6], [7, 8], [9, 10]],\n",
    "    \"number\": [1.1, 2.2, 3.3, 4.4, 5.5]\n",
    "}\n",
    "\n",
    "df = DataFrame(disc, index=[1, 3, 5, 7, 9])\n",
    "\n",
    "print(df)\n",
    "\n",
    "# types of every column\n",
    "# types of the first elemet of every Serie\n",
    "for column in df:\n",
    "    print(type(df[column]))\n",
    "    print(type(df[column].values[0]))\n"
   ]
  }
 ],
 "metadata": {
  "kernelspec": {
   "display_name": "Python 3",
   "language": "python",
   "name": "python3"
  },
  "language_info": {
   "codemirror_mode": {
    "name": "ipython",
    "version": 3
   },
   "file_extension": ".py",
   "mimetype": "text/x-python",
   "name": "python",
   "nbconvert_exporter": "python",
   "pygments_lexer": "ipython3",
   "version": "3.6.9"
  }
 },
 "nbformat": 4,
 "nbformat_minor": 2
}